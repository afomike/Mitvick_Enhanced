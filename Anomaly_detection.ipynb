{
  "metadata": {
    "kernelspec": {
      "language": "python",
      "display_name": "Python 3",
      "name": "python3"
    },
    "language_info": {
      "name": "python",
      "version": "3.10.13",
      "mimetype": "text/x-python",
      "codemirror_mode": {
        "name": "ipython",
        "version": 3
      },
      "pygments_lexer": "ipython3",
      "nbconvert_exporter": "python",
      "file_extension": ".py"
    },
    "kaggle": {
      "accelerator": "none",
      "dataSources": [
        {
          "sourceId": 7172543,
          "sourceType": "datasetVersion",
          "datasetId": 4144264
        }
      ],
      "dockerImageVersionId": 30698,
      "isInternetEnabled": true,
      "language": "python",
      "sourceType": "notebook",
      "isGpuEnabled": false
    },
    "colab": {
      "name": "Anomaly detection",
      "provenance": []
    }
  },
  "nbformat_minor": 0,
  "nbformat": 4,
  "cells": [
    {
      "source": [
        "\n",
        "# IMPORTANT: RUN THIS CELL IN ORDER TO IMPORT YOUR KAGGLE DATA SOURCES\n",
        "# TO THE CORRECT LOCATION (/kaggle/input) IN YOUR NOTEBOOK,\n",
        "# THEN FEEL FREE TO DELETE THIS CELL.\n",
        "# NOTE: THIS NOTEBOOK ENVIRONMENT DIFFERS FROM KAGGLE'S PYTHON\n",
        "# ENVIRONMENT SO THERE MAY BE MISSING LIBRARIES USED BY YOUR\n",
        "# NOTEBOOK.\n",
        "\n",
        "import os\n",
        "import sys\n",
        "from tempfile import NamedTemporaryFile\n",
        "from urllib.request import urlopen\n",
        "from urllib.parse import unquote, urlparse\n",
        "from urllib.error import HTTPError\n",
        "from zipfile import ZipFile\n",
        "import tarfile\n",
        "import shutil\n",
        "\n",
        "CHUNK_SIZE = 40960\n",
        "DATA_SOURCE_MAPPING = 'ugransome-dataset:https%3A%2F%2Fstorage.googleapis.com%2Fkaggle-data-sets%2F4144264%2F7172543%2Fbundle%2Farchive.zip%3FX-Goog-Algorithm%3DGOOG4-RSA-SHA256%26X-Goog-Credential%3Dgcp-kaggle-com%2540kaggle-161607.iam.gserviceaccount.com%252F20240811%252Fauto%252Fstorage%252Fgoog4_request%26X-Goog-Date%3D20240811T195155Z%26X-Goog-Expires%3D259200%26X-Goog-SignedHeaders%3Dhost%26X-Goog-Signature%3D82e758be811c800fce17aea883acd71877a55f84e6db7e2c727ea6dfc54f72c0c9af74cc2a276ed4a327bff689a51d830079c03707eebb70fb940dc1519a671ba5535c83610cea0f8c36f09656daa9413d01b1709ee4fea2f8d773ca807db9751004d05b138b4159edfeb829421e1932dbfa664e296bcb29f8faa15ab056e1f8992a458f3aefe5e125e369efc7bf909fe0c82bbd0b7c1bda055ee8322a87229c69caec8a36d43a9104ddab9a10f831aa0e8abc3ee29ac7d4b6b1776099b4bcbcf5a2c32774fbdead1fd88a16cd831dbaa23009d7fc7b3a7129807ffa76dc5d9160856d2a92bb6663c2fb22e5e3feb025a82e52ad29c247a2834a4bdfe8345179'\n",
        "\n",
        "KAGGLE_INPUT_PATH='/kaggle/input'\n",
        "KAGGLE_WORKING_PATH='/kaggle/working'\n",
        "KAGGLE_SYMLINK='kaggle'\n",
        "\n",
        "!umount /kaggle/input/ 2> /dev/null\n",
        "shutil.rmtree('/kaggle/input', ignore_errors=True)\n",
        "os.makedirs(KAGGLE_INPUT_PATH, 0o777, exist_ok=True)\n",
        "os.makedirs(KAGGLE_WORKING_PATH, 0o777, exist_ok=True)\n",
        "\n",
        "try:\n",
        "  os.symlink(KAGGLE_INPUT_PATH, os.path.join(\"..\", 'input'), target_is_directory=True)\n",
        "except FileExistsError:\n",
        "  pass\n",
        "try:\n",
        "  os.symlink(KAGGLE_WORKING_PATH, os.path.join(\"..\", 'working'), target_is_directory=True)\n",
        "except FileExistsError:\n",
        "  pass\n",
        "\n",
        "for data_source_mapping in DATA_SOURCE_MAPPING.split(','):\n",
        "    directory, download_url_encoded = data_source_mapping.split(':')\n",
        "    download_url = unquote(download_url_encoded)\n",
        "    filename = urlparse(download_url).path\n",
        "    destination_path = os.path.join(KAGGLE_INPUT_PATH, directory)\n",
        "    try:\n",
        "        with urlopen(download_url) as fileres, NamedTemporaryFile() as tfile:\n",
        "            total_length = fileres.headers['content-length']\n",
        "            print(f'Downloading {directory}, {total_length} bytes compressed')\n",
        "            dl = 0\n",
        "            data = fileres.read(CHUNK_SIZE)\n",
        "            while len(data) > 0:\n",
        "                dl += len(data)\n",
        "                tfile.write(data)\n",
        "                done = int(50 * dl / int(total_length))\n",
        "                sys.stdout.write(f\"\\r[{'=' * done}{' ' * (50-done)}] {dl} bytes downloaded\")\n",
        "                sys.stdout.flush()\n",
        "                data = fileres.read(CHUNK_SIZE)\n",
        "            if filename.endswith('.zip'):\n",
        "              with ZipFile(tfile) as zfile:\n",
        "                zfile.extractall(destination_path)\n",
        "            else:\n",
        "              with tarfile.open(tfile.name) as tarfile:\n",
        "                tarfile.extractall(destination_path)\n",
        "            print(f'\\nDownloaded and uncompressed: {directory}')\n",
        "    except HTTPError as e:\n",
        "        print(f'Failed to load (likely expired) {download_url} to path {destination_path}')\n",
        "        continue\n",
        "    except OSError as e:\n",
        "        print(f'Failed to load {download_url} to path {destination_path}')\n",
        "        continue\n",
        "\n",
        "print('Data source import complete.')\n"
      ],
      "metadata": {
        "id": "PLPXFf9cLsR1"
      },
      "cell_type": "code",
      "outputs": [],
      "execution_count": null
    },
    {
      "cell_type": "code",
      "source": [
        "# This Python 3 environment comes with many helpful analytics libraries installed\n",
        "# It is defined by the kaggle/python Docker image: https://github.com/kaggle/docker-python\n",
        "# For example, here's several helpful packages to load\n",
        "\n",
        "import numpy as np # linear algebra\n",
        "import pandas as pd # data processing, CSV file I/O (e.g. pd.read_csv)\n",
        "\n",
        "# Input data files are available in the read-only \"../input/\" directory\n",
        "# For example, running this (by clicking run or pressing Shift+Enter) will list all files under the input directory\n",
        "\n",
        "import os\n",
        "for dirname, _, filenames in os.walk('/kaggle/input'):\n",
        "    for filename in filenames:\n",
        "        print(os.path.join(dirname, filename))\n",
        "\n",
        "# You can write up to 20GB to the current directory (/kaggle/working/) that gets preserved as output when you create a version using \"Save & Run All\"\n",
        "# You can also write temporary files to /kaggle/temp/, but they won't be saved outside of the current session"
      ],
      "metadata": {
        "_uuid": "8f2839f25d086af736a60e9eeb907d3b93b6e0e5",
        "_cell_guid": "b1076dfc-b9ad-4769-8c92-a6c4dae69d19",
        "execution": {
          "iopub.status.busy": "2024-04-30T14:25:57.378108Z",
          "iopub.execute_input": "2024-04-30T14:25:57.378763Z",
          "iopub.status.idle": "2024-04-30T14:25:58.68555Z",
          "shell.execute_reply.started": "2024-04-30T14:25:57.37873Z",
          "shell.execute_reply": "2024-04-30T14:25:58.684364Z"
        },
        "trusted": true,
        "id": "F_MALDqmLsR2"
      },
      "execution_count": null,
      "outputs": []
    },
    {
      "cell_type": "markdown",
      "source": [
        "**About DataSet**\n",
        "\n",
        "The UGRansom dataset is a versatile resource for analyzing ransomware and zero-day cyberattacks. It provides timestamps, flags for attack types, protocol data, and network flow details. Additionally, it offers ransomware family classifications, malware insights, and quantifies financial damage in USD and bitcoins."
      ],
      "metadata": {
        "id": "7h9gQX2ZLsR3"
      }
    },
    {
      "cell_type": "markdown",
      "source": [
        "**The features in the dataset :**\n",
        "\n",
        "1) Time: Timestamps of network attacks (quantitative).\n",
        "\n",
        "2) Protocol: Network protocol used (categorical).\n",
        "\n",
        "3) Flag: Network connection status (categorical).\n",
        "\n",
        "4) Family: Category of network intrusion (categorical).\n",
        "\n",
        "5) Clusters: Event clusters or groups (quantitative).\n",
        "\n",
        "6) SeedAddress: Formatted ransomware attack links (categorical).\n",
        "\n",
        "7) ExpAddress: Original ransomware attack links (categorical).\n",
        "\n",
        "8) BTC: Values related to Bitcoin transactions in attacks (numeric).\n",
        "\n",
        "9) USD: Financial damages in USD caused by attacks (numeric).\n",
        "\n",
        "10) Netflow Bytes: Bytes transferred in network flow (quantitative).\n",
        "\n",
        "11) IPaddress: IP addresses associated with network events (categorical).\n",
        "\n",
        "12) Threats: Nature of threats or intrusions (categorical).\n",
        "\n",
        "13) Port: Network port number in events (quantitative).\n",
        "\n",
        "14) Prediction: Target variable indicating predictive model outcomes (anomaly (A), signature (S), and synthetic signature (SS)) (categorical)."
      ],
      "metadata": {
        "id": "2GBz311oLsR4"
      }
    },
    {
      "cell_type": "code",
      "source": [
        "data=pd.read_csv(\"/kaggle/input/ugransome-dataset/final(2).csv\")\n",
        "data"
      ],
      "metadata": {
        "execution": {
          "iopub.status.busy": "2024-04-30T14:25:58.687408Z",
          "iopub.execute_input": "2024-04-30T14:25:58.688352Z",
          "iopub.status.idle": "2024-04-30T14:25:59.220557Z",
          "shell.execute_reply.started": "2024-04-30T14:25:58.68832Z",
          "shell.execute_reply": "2024-04-30T14:25:59.219533Z"
        },
        "trusted": true,
        "id": "qpzxDJgrLsR4"
      },
      "execution_count": null,
      "outputs": []
    },
    {
      "cell_type": "code",
      "source": [
        "data.isnull().sum()"
      ],
      "metadata": {
        "execution": {
          "iopub.status.busy": "2024-04-30T14:25:59.221926Z",
          "iopub.execute_input": "2024-04-30T14:25:59.22244Z",
          "iopub.status.idle": "2024-04-30T14:25:59.365652Z",
          "shell.execute_reply.started": "2024-04-30T14:25:59.222403Z",
          "shell.execute_reply": "2024-04-30T14:25:59.364354Z"
        },
        "trusted": true,
        "id": "JHDYoW1ULsR5"
      },
      "execution_count": null,
      "outputs": []
    },
    {
      "cell_type": "code",
      "source": [
        "data.describe().T"
      ],
      "metadata": {
        "execution": {
          "iopub.status.busy": "2024-04-30T14:33:37.926075Z",
          "iopub.execute_input": "2024-04-30T14:33:37.926522Z",
          "iopub.status.idle": "2024-04-30T14:33:37.983338Z",
          "shell.execute_reply.started": "2024-04-30T14:33:37.926488Z",
          "shell.execute_reply": "2024-04-30T14:33:37.982278Z"
        },
        "trusted": true,
        "id": "OjqXoHukLsR6"
      },
      "execution_count": null,
      "outputs": []
    },
    {
      "cell_type": "code",
      "source": [
        "data.info()"
      ],
      "metadata": {
        "execution": {
          "iopub.status.busy": "2024-04-30T14:33:34.097859Z",
          "iopub.execute_input": "2024-04-30T14:33:34.098243Z",
          "iopub.status.idle": "2024-04-30T14:33:34.250105Z",
          "shell.execute_reply.started": "2024-04-30T14:33:34.098213Z",
          "shell.execute_reply": "2024-04-30T14:33:34.248939Z"
        },
        "trusted": true,
        "id": "9E_n-XNGLsR7"
      },
      "execution_count": null,
      "outputs": []
    },
    {
      "cell_type": "code",
      "source": [
        "prediction_counts = data['Time'].value_counts()\n",
        "prediction_counts"
      ],
      "metadata": {
        "execution": {
          "iopub.status.busy": "2024-04-30T14:33:41.652163Z",
          "iopub.execute_input": "2024-04-30T14:33:41.652848Z",
          "iopub.status.idle": "2024-04-30T14:33:41.665557Z",
          "shell.execute_reply.started": "2024-04-30T14:33:41.652814Z",
          "shell.execute_reply": "2024-04-30T14:33:41.664381Z"
        },
        "trusted": true,
        "id": "g8nQ2VGXLsR7"
      },
      "execution_count": null,
      "outputs": []
    },
    {
      "cell_type": "markdown",
      "source": [
        "**Exploratory Data Analysis (EDA)**"
      ],
      "metadata": {
        "id": "satiurnQLsR8"
      }
    },
    {
      "cell_type": "code",
      "source": [
        "import seaborn as sns\n",
        "import matplotlib.pyplot as plt\n",
        "\n",
        "sns.countplot(x=data['IPaddress'], data=data)\n",
        "plt.title('Bar Graph of IPaddress')\n",
        "plt.show()"
      ],
      "metadata": {
        "execution": {
          "iopub.status.busy": "2024-04-30T14:33:45.100929Z",
          "iopub.execute_input": "2024-04-30T14:33:45.101335Z",
          "iopub.status.idle": "2024-04-30T14:33:46.320605Z",
          "shell.execute_reply.started": "2024-04-30T14:33:45.101306Z",
          "shell.execute_reply": "2024-04-30T14:33:46.319375Z"
        },
        "trusted": true,
        "id": "7A9a5tIfLsR8"
      },
      "execution_count": null,
      "outputs": []
    },
    {
      "cell_type": "code",
      "source": [
        "sns.countplot(x=data['Prediction'], data=data)\n",
        "plt.title('Bar Graph of Prediction')\n",
        "plt.show()"
      ],
      "metadata": {
        "execution": {
          "iopub.status.busy": "2024-04-30T14:33:49.757461Z",
          "iopub.execute_input": "2024-04-30T14:33:49.758458Z",
          "iopub.status.idle": "2024-04-30T14:33:50.218254Z",
          "shell.execute_reply.started": "2024-04-30T14:33:49.758422Z",
          "shell.execute_reply": "2024-04-30T14:33:50.216992Z"
        },
        "trusted": true,
        "id": "KDD5rA3yLsR8"
      },
      "execution_count": null,
      "outputs": []
    },
    {
      "cell_type": "code",
      "source": [
        "sns.countplot(x=data['Protcol'],data=data)\n",
        "plt.title('Bar Graph of Protcol')\n",
        "plt.show()"
      ],
      "metadata": {
        "execution": {
          "iopub.status.busy": "2024-04-30T14:33:53.731269Z",
          "iopub.execute_input": "2024-04-30T14:33:53.731672Z",
          "iopub.status.idle": "2024-04-30T14:33:54.200035Z",
          "shell.execute_reply.started": "2024-04-30T14:33:53.73164Z",
          "shell.execute_reply": "2024-04-30T14:33:54.198967Z"
        },
        "trusted": true,
        "id": "OnM6pIeqLsR9"
      },
      "execution_count": null,
      "outputs": []
    },
    {
      "cell_type": "code",
      "source": [
        "plt.figure(figsize=(15, 8))\n",
        "ax = sns.countplot(x=data['Family'], data=data)\n",
        "plt.title('Bar Graph of Family')\n",
        "plt.xticks(rotation=45)\n",
        "plt.xticks(fontsize=10)\n",
        "plt.show()"
      ],
      "metadata": {
        "execution": {
          "iopub.status.busy": "2024-04-30T14:33:57.367558Z",
          "iopub.execute_input": "2024-04-30T14:33:57.369496Z",
          "iopub.status.idle": "2024-04-30T14:33:58.010032Z",
          "shell.execute_reply.started": "2024-04-30T14:33:57.369456Z",
          "shell.execute_reply": "2024-04-30T14:33:58.00912Z"
        },
        "trusted": true,
        "id": "J6FBtu-FLsR_"
      },
      "execution_count": null,
      "outputs": []
    },
    {
      "cell_type": "code",
      "source": [
        "data['Threats'] = data['Threats'].str.replace('Bonet', 'Botnet')\n",
        "plt.figure(figsize=(15, 6))\n",
        "ax = sns.countplot(x=data['Threats'], data=data)\n",
        "plt.title('Bar Graph of Threats')\n",
        "plt.xticks(rotation=45)\n",
        "plt.xticks(fontsize=10)\n",
        "plt.show()"
      ],
      "metadata": {
        "execution": {
          "iopub.status.busy": "2024-04-30T14:34:01.621871Z",
          "iopub.execute_input": "2024-04-30T14:34:01.622252Z",
          "iopub.status.idle": "2024-04-30T14:34:02.249017Z",
          "shell.execute_reply.started": "2024-04-30T14:34:01.622224Z",
          "shell.execute_reply": "2024-04-30T14:34:02.247956Z"
        },
        "trusted": true,
        "id": "NU0rnO2eLsR_"
      },
      "execution_count": null,
      "outputs": []
    },
    {
      "cell_type": "code",
      "source": [
        "sns.countplot(x=data['Flag'],data=data)\n",
        "plt.title('Bar Graph of Flag')\n",
        "plt.show()"
      ],
      "metadata": {
        "execution": {
          "iopub.status.busy": "2024-04-27T05:30:34.960922Z",
          "iopub.execute_input": "2024-04-27T05:30:34.961208Z",
          "iopub.status.idle": "2024-04-27T05:30:35.364322Z",
          "shell.execute_reply.started": "2024-04-27T05:30:34.961183Z",
          "shell.execute_reply": "2024-04-27T05:30:35.363359Z"
        },
        "trusted": true,
        "id": "YkUkoldjLsSA"
      },
      "execution_count": null,
      "outputs": []
    },
    {
      "cell_type": "markdown",
      "source": [
        "**Data Preprocessing**"
      ],
      "metadata": {
        "id": "5TesspybLsSA"
      }
    },
    {
      "cell_type": "code",
      "source": [
        "objList = data.select_dtypes(include = \"object\").columns\n",
        "print (objList)"
      ],
      "metadata": {
        "execution": {
          "iopub.status.busy": "2024-04-30T14:34:07.642071Z",
          "iopub.execute_input": "2024-04-30T14:34:07.642799Z",
          "iopub.status.idle": "2024-04-30T14:34:07.714535Z",
          "shell.execute_reply.started": "2024-04-30T14:34:07.64276Z",
          "shell.execute_reply": "2024-04-30T14:34:07.713403Z"
        },
        "trusted": true,
        "id": "Q2zDWS1_LsSB"
      },
      "execution_count": null,
      "outputs": []
    },
    {
      "cell_type": "code",
      "source": [
        "from sklearn.preprocessing import LabelEncoder\n",
        "le = LabelEncoder()\n",
        "\n",
        "for feat in objList:\n",
        "    data[feat] = le.fit_transform(data[feat].astype(str))\n",
        "\n",
        "print (data.info())"
      ],
      "metadata": {
        "execution": {
          "iopub.status.busy": "2024-04-30T14:34:10.813652Z",
          "iopub.execute_input": "2024-04-30T14:34:10.814408Z",
          "iopub.status.idle": "2024-04-30T14:34:11.252451Z",
          "shell.execute_reply.started": "2024-04-30T14:34:10.814365Z",
          "shell.execute_reply": "2024-04-30T14:34:11.251281Z"
        },
        "trusted": true,
        "id": "HvuGvGHZLsSB"
      },
      "execution_count": null,
      "outputs": []
    },
    {
      "cell_type": "code",
      "source": [
        "data"
      ],
      "metadata": {
        "execution": {
          "iopub.status.busy": "2024-04-30T14:34:14.668019Z",
          "iopub.execute_input": "2024-04-30T14:34:14.669184Z",
          "iopub.status.idle": "2024-04-30T14:34:14.689145Z",
          "shell.execute_reply.started": "2024-04-30T14:34:14.669122Z",
          "shell.execute_reply": "2024-04-30T14:34:14.688164Z"
        },
        "trusted": true,
        "id": "bQhvqmCCLsSB"
      },
      "execution_count": null,
      "outputs": []
    },
    {
      "cell_type": "code",
      "source": [
        "X=data.drop(['Prediction'],axis=1)\n",
        "y=data['Prediction']"
      ],
      "metadata": {
        "execution": {
          "iopub.status.busy": "2024-04-30T14:34:18.252222Z",
          "iopub.execute_input": "2024-04-30T14:34:18.25261Z",
          "iopub.status.idle": "2024-04-30T14:34:18.271007Z",
          "shell.execute_reply.started": "2024-04-30T14:34:18.252582Z",
          "shell.execute_reply": "2024-04-30T14:34:18.269861Z"
        },
        "trusted": true,
        "id": "rYgzCHGpLsSC"
      },
      "execution_count": null,
      "outputs": []
    },
    {
      "cell_type": "markdown",
      "source": [
        "**Standardization of Features**"
      ],
      "metadata": {
        "id": "uuICjdHLLsSC"
      }
    },
    {
      "cell_type": "code",
      "source": [
        "from sklearn.preprocessing import StandardScaler\n",
        "scaler = StandardScaler()\n",
        "X = scaler.fit_transform(X)"
      ],
      "metadata": {
        "execution": {
          "iopub.status.busy": "2024-04-30T14:34:22.320065Z",
          "iopub.execute_input": "2024-04-30T14:34:22.320482Z",
          "iopub.status.idle": "2024-04-30T14:34:22.38104Z",
          "shell.execute_reply.started": "2024-04-30T14:34:22.320452Z",
          "shell.execute_reply": "2024-04-30T14:34:22.380089Z"
        },
        "trusted": true,
        "id": "VAJ9GI2eLsSD"
      },
      "execution_count": null,
      "outputs": []
    },
    {
      "cell_type": "markdown",
      "source": [
        "**Train-Test Split**"
      ],
      "metadata": {
        "id": "t5Lt09XFLsSD"
      }
    },
    {
      "cell_type": "code",
      "source": [
        "from sklearn.model_selection import train_test_split\n",
        "X_train, X_test, y_train, y_test = train_test_split(X, y, test_size=0.3, random_state=42)\n",
        "\n",
        "print(\"Training Set - X_train shape:\", X_train.shape)\n",
        "print(\"Testing Set - X_test shape:\", X_test.shape)\n",
        "print(\"Training Set - y_train shape:\", y_train.shape)\n",
        "print(\"Testing Set - y_test shape:\", y_test.shape)"
      ],
      "metadata": {
        "execution": {
          "iopub.status.busy": "2024-04-30T14:34:25.475636Z",
          "iopub.execute_input": "2024-04-30T14:34:25.47603Z",
          "iopub.status.idle": "2024-04-30T14:34:25.626087Z",
          "shell.execute_reply.started": "2024-04-30T14:34:25.475999Z",
          "shell.execute_reply": "2024-04-30T14:34:25.624983Z"
        },
        "trusted": true,
        "id": "LyHGu2fdLsSE"
      },
      "execution_count": null,
      "outputs": []
    },
    {
      "cell_type": "code",
      "source": [
        "from sklearn.ensemble import RandomForestClassifier\n",
        "from sklearn.svm import SVC\n",
        "from sklearn.naive_bayes import GaussianNB\n",
        "from sklearn.ensemble import StackingClassifier\n",
        "from sklearn.metrics import accuracy_score, precision_score, recall_score, f1_score\n",
        "from sklearn.metrics import confusion_matrix\n",
        "from sklearn.metrics import classification_report"
      ],
      "metadata": {
        "execution": {
          "iopub.status.busy": "2024-04-30T14:34:30.256116Z",
          "iopub.execute_input": "2024-04-30T14:34:30.256536Z",
          "iopub.status.idle": "2024-04-30T14:34:30.554484Z",
          "shell.execute_reply.started": "2024-04-30T14:34:30.256504Z",
          "shell.execute_reply": "2024-04-30T14:34:30.553186Z"
        },
        "trusted": true,
        "id": "DDojMC5KLsSE"
      },
      "execution_count": null,
      "outputs": []
    },
    {
      "cell_type": "markdown",
      "source": [
        "**Naive Bayes Model**"
      ],
      "metadata": {
        "id": "cB51IL_HLsSE"
      }
    },
    {
      "cell_type": "code",
      "source": [
        "nb = GaussianNB()\n",
        "nb.fit(X_train, y_train)\n",
        "nb_pred = nb.predict(X_test)\n",
        "\n",
        "nb_accuracy = accuracy_score(nb_pred, y_test)\n",
        "nb_report = classification_report(nb_pred, y_test)\n",
        "nb_matrix = confusion_matrix(nb_pred, y_test)\n",
        "print('Accuracy of Naive Bayes : ', round(nb_accuracy, 3))\n",
        "print('Classification report of Naive Bayes : \\n', nb_report)"
      ],
      "metadata": {
        "execution": {
          "iopub.status.busy": "2024-04-30T14:42:24.978412Z",
          "iopub.execute_input": "2024-04-30T14:42:24.978866Z",
          "iopub.status.idle": "2024-04-30T14:42:25.140039Z",
          "shell.execute_reply.started": "2024-04-30T14:42:24.978833Z",
          "shell.execute_reply": "2024-04-30T14:42:25.138692Z"
        },
        "trusted": true,
        "id": "3DyHAbR3LsSF"
      },
      "execution_count": null,
      "outputs": []
    },
    {
      "cell_type": "code",
      "source": [
        "num_wrong = (y_test != nb_pred).sum()\n",
        "\n",
        "print('Number of incorrect predictions by Naive Bayes:', num_wrong)"
      ],
      "metadata": {
        "execution": {
          "iopub.status.busy": "2024-04-30T14:57:17.698721Z",
          "iopub.execute_input": "2024-04-30T14:57:17.699202Z",
          "iopub.status.idle": "2024-04-30T14:57:17.706153Z",
          "shell.execute_reply.started": "2024-04-30T14:57:17.69915Z",
          "shell.execute_reply": "2024-04-30T14:57:17.704975Z"
        },
        "trusted": true,
        "id": "4oqLZrSrLsSF"
      },
      "execution_count": null,
      "outputs": []
    },
    {
      "cell_type": "code",
      "source": [
        "plt.figure(figsize=(8, 6))\n",
        "sns.set(font_scale=1.2)\n",
        "sns.heatmap(nb_matrix, annot=True, fmt=\"d\", cmap=\"inferno\", cbar=False,\n",
        "            xticklabels=[\"0:A\", \"1:S\", \"2:SS\"], yticklabels=[\"0:A\", \"1:S\", \"2:SS\"])\n",
        "plt.xlabel(\"Predicted\")\n",
        "plt.ylabel(\"True\")\n",
        "plt.title(\"Confusion Matrix Heatmap of Naive Bayes\")\n",
        "plt.show()"
      ],
      "metadata": {
        "execution": {
          "iopub.status.busy": "2024-04-30T14:42:46.831198Z",
          "iopub.execute_input": "2024-04-30T14:42:46.831571Z",
          "iopub.status.idle": "2024-04-30T14:42:47.098862Z",
          "shell.execute_reply.started": "2024-04-30T14:42:46.831544Z",
          "shell.execute_reply": "2024-04-30T14:42:47.097766Z"
        },
        "trusted": true,
        "id": "ib-8bSRHLsSG"
      },
      "execution_count": null,
      "outputs": []
    },
    {
      "cell_type": "markdown",
      "source": [
        "**SVM Model**"
      ],
      "metadata": {
        "id": "T0S2T4VoLsSG"
      }
    },
    {
      "cell_type": "code",
      "source": [
        "svr =SVC()\n",
        "svr.fit(X_train, y_train)\n",
        "svr_pred = svr.predict(X_test)\n",
        "svr_accuracy = accuracy_score(svr_pred, y_test)\n",
        "svr_report = classification_report(svr_pred, y_test)\n",
        "svr_matrix = confusion_matrix(svr_pred, y_test)\n",
        "print('Accuracy of SVM : ', round(svr_accuracy, 3))\n",
        "print('Classification report of SVM : \\n', svr_report)"
      ],
      "metadata": {
        "execution": {
          "iopub.status.busy": "2024-04-30T14:34:34.050108Z",
          "iopub.execute_input": "2024-04-30T14:34:34.050557Z",
          "iopub.status.idle": "2024-04-30T14:36:44.676871Z",
          "shell.execute_reply.started": "2024-04-30T14:34:34.050525Z",
          "shell.execute_reply": "2024-04-30T14:36:44.675618Z"
        },
        "trusted": true,
        "id": "gw5llYaOLsSG"
      },
      "execution_count": null,
      "outputs": []
    },
    {
      "cell_type": "code",
      "source": [
        "num_wrong = (y_test != svr_pred).sum()\n",
        "\n",
        "print('Number of incorrect predictions by SVC:', num_wrong)"
      ],
      "metadata": {
        "execution": {
          "iopub.status.busy": "2024-04-30T14:56:47.364682Z",
          "iopub.execute_input": "2024-04-30T14:56:47.365072Z",
          "iopub.status.idle": "2024-04-30T14:56:47.371324Z",
          "shell.execute_reply.started": "2024-04-30T14:56:47.365043Z",
          "shell.execute_reply": "2024-04-30T14:56:47.370206Z"
        },
        "trusted": true,
        "id": "e62taoHtLsSG"
      },
      "execution_count": null,
      "outputs": []
    },
    {
      "cell_type": "code",
      "source": [
        "plt.figure(figsize=(8, 6))\n",
        "sns.set(font_scale=1.2)\n",
        "sns.heatmap(svr_matrix, annot=True, fmt=\"d\", cmap=\"YlGnBu\", cbar=False,\n",
        "            xticklabels=[\"0:A\", \"1:S\", \"2:SS\"], yticklabels=[\"0:A\", \"1:S\", \"2:SS\"])\n",
        "plt.xlabel(\"Predicted\")\n",
        "plt.ylabel(\"True\")\n",
        "plt.title(\"Confusion Matrix Heatmap of SVM\")\n",
        "plt.show()"
      ],
      "metadata": {
        "execution": {
          "iopub.status.busy": "2024-04-30T14:37:24.839832Z",
          "iopub.execute_input": "2024-04-30T14:37:24.84071Z",
          "iopub.status.idle": "2024-04-30T14:37:25.109998Z",
          "shell.execute_reply.started": "2024-04-30T14:37:24.840673Z",
          "shell.execute_reply": "2024-04-30T14:37:25.108854Z"
        },
        "trusted": true,
        "id": "4P6qvwnkLsSH"
      },
      "execution_count": null,
      "outputs": []
    },
    {
      "cell_type": "markdown",
      "source": [
        "**ANN MODEL**"
      ],
      "metadata": {
        "id": "5n4oxNbYLsSH"
      }
    },
    {
      "cell_type": "code",
      "source": [
        "from tensorflow import keras\n",
        "from tensorflow.keras import layers\n",
        "from tensorflow.keras.callbacks import EarlyStopping\n",
        "\n",
        "model = keras.Sequential([\n",
        "    layers.Dense(32, activation=\"relu\", input_shape=(X_train.shape[1],)),\n",
        "    layers.Dense(16, activation=\"selu\"),\n",
        "    layers.Dense(3, activation=\"softmax\")\n",
        "])\n",
        "\n",
        "model.compile(optimizer=\"adam\", loss=\"sparse_categorical_crossentropy\", metrics=[\"accuracy\"])\n",
        "\n",
        "early_stopping = EarlyStopping(monitor='val_loss', patience=5, verbose=1)\n",
        "\n",
        "history = model.fit(X_train, y_train, epochs=50, batch_size=16,\n",
        "                    callbacks=[early_stopping], validation_split=0.2)"
      ],
      "metadata": {
        "execution": {
          "iopub.status.busy": "2024-04-30T14:49:25.123486Z",
          "iopub.execute_input": "2024-04-30T14:49:25.12389Z",
          "iopub.status.idle": "2024-04-30T14:53:28.635968Z",
          "shell.execute_reply.started": "2024-04-30T14:49:25.123861Z",
          "shell.execute_reply": "2024-04-30T14:53:28.634784Z"
        },
        "trusted": true,
        "id": "8UTwAdPsLsSH"
      },
      "execution_count": null,
      "outputs": []
    },
    {
      "cell_type": "code",
      "source": [
        "test_loss, test_acc = model.evaluate(X_test, y_test)\n",
        "print(\"Test accuracy:\", test_acc)\n",
        "\n",
        "y_pred = model.predict(X_test)\n",
        "y_pred_class = np.argmax(y_pred, axis=1)\n",
        "print(y_pred_class)"
      ],
      "metadata": {
        "trusted": true,
        "id": "dS_UCcAgLsSI"
      },
      "execution_count": null,
      "outputs": []
    },
    {
      "cell_type": "code",
      "source": [
        "class_report = classification_report(y_test, y_pred_class)\n",
        "print('Classification Report:')\n",
        "print(class_report)"
      ],
      "metadata": {
        "execution": {
          "iopub.status.busy": "2024-04-30T15:00:10.159487Z",
          "iopub.execute_input": "2024-04-30T15:00:10.159929Z",
          "iopub.status.idle": "2024-04-30T15:00:10.250324Z",
          "shell.execute_reply.started": "2024-04-30T15:00:10.159897Z",
          "shell.execute_reply": "2024-04-30T15:00:10.248934Z"
        },
        "trusted": true,
        "id": "zZel_33_LsSI"
      },
      "execution_count": null,
      "outputs": []
    },
    {
      "cell_type": "code",
      "source": [
        "conf_matrix = confusion_matrix(y_test, y_pred_class)\n",
        "plt.figure(figsize=(8, 6))\n",
        "sns.heatmap(conf_matrix, annot=True, fmt='d', cmap='viridis', cbar=False)\n",
        "plt.xlabel('Predicted Labels')\n",
        "plt.ylabel('True Labels')\n",
        "plt.title('Confusion Matrix')\n",
        "plt.show()"
      ],
      "metadata": {
        "execution": {
          "iopub.status.busy": "2024-04-30T15:01:02.835822Z",
          "iopub.execute_input": "2024-04-30T15:01:02.836483Z",
          "iopub.status.idle": "2024-04-30T15:01:03.137307Z",
          "shell.execute_reply.started": "2024-04-30T15:01:02.836446Z",
          "shell.execute_reply": "2024-04-30T15:01:03.135875Z"
        },
        "trusted": true,
        "id": "APEl3AIJLsSJ"
      },
      "execution_count": null,
      "outputs": []
    },
    {
      "cell_type": "code",
      "source": [
        "num_wrong = (y_test != y_pred_class).sum()\n",
        "\n",
        "print('Number of incorrect predictions by ANN:', num_wrong)"
      ],
      "metadata": {
        "execution": {
          "iopub.status.busy": "2024-04-30T14:58:19.12327Z",
          "iopub.execute_input": "2024-04-30T14:58:19.123734Z",
          "iopub.status.idle": "2024-04-30T14:58:19.130896Z",
          "shell.execute_reply.started": "2024-04-30T14:58:19.123701Z",
          "shell.execute_reply": "2024-04-30T14:58:19.129362Z"
        },
        "trusted": true,
        "id": "GiaGjrJLLsSR"
      },
      "execution_count": null,
      "outputs": []
    },
    {
      "cell_type": "code",
      "source": [
        "result_df = pd.DataFrame({'Actual': y_test, 'Predicted': y_pred_class})\n",
        "result_df.head(20)\n"
      ],
      "metadata": {
        "execution": {
          "iopub.status.busy": "2024-04-30T14:58:49.968108Z",
          "iopub.execute_input": "2024-04-30T14:58:49.968499Z",
          "iopub.status.idle": "2024-04-30T14:58:49.981713Z",
          "shell.execute_reply.started": "2024-04-30T14:58:49.968471Z",
          "shell.execute_reply": "2024-04-30T14:58:49.980405Z"
        },
        "trusted": true,
        "id": "0Nw2DmtlLsSS"
      },
      "execution_count": null,
      "outputs": []
    },
    {
      "cell_type": "markdown",
      "source": [
        "**RandomForestClassifier Model**"
      ],
      "metadata": {
        "id": "hlM6I1G2LsST"
      }
    },
    {
      "cell_type": "code",
      "source": [
        "rfc=RandomForestClassifier()\n",
        "rfc.fit(X_train, y_train)\n",
        "rfc_pred = rfc.predict(X_test)\n",
        "\n",
        "rfc_accuracy = accuracy_score(rfc_pred, y_test)\n",
        "rfc_report = classification_report(rfc_pred, y_test)\n",
        "rfc_matrix = confusion_matrix(rfc_pred, y_test)\n",
        "print('Accuracy of RandomForestClassifier : ', round(rfc_accuracy, 3))\n",
        "print('Classification report of RandomForestClassifier : \\n', rfc_report)"
      ],
      "metadata": {
        "execution": {
          "iopub.status.busy": "2024-04-30T14:36:45.306058Z",
          "iopub.execute_input": "2024-04-30T14:36:45.3072Z",
          "iopub.status.idle": "2024-04-30T14:36:56.310073Z",
          "shell.execute_reply.started": "2024-04-30T14:36:45.307144Z",
          "shell.execute_reply": "2024-04-30T14:36:56.309018Z"
        },
        "trusted": true,
        "id": "14a3lxoiLsST"
      },
      "execution_count": null,
      "outputs": []
    },
    {
      "cell_type": "code",
      "source": [
        "num_wrong = (y_test != rfc_pred).sum()\n",
        "\n",
        "print('Number of incorrect predictions by RandomForestClassifier:', num_wrong)"
      ],
      "metadata": {
        "execution": {
          "iopub.status.busy": "2024-04-30T14:56:13.985959Z",
          "iopub.execute_input": "2024-04-30T14:56:13.986539Z",
          "iopub.status.idle": "2024-04-30T14:56:13.99463Z",
          "shell.execute_reply.started": "2024-04-30T14:56:13.986493Z",
          "shell.execute_reply": "2024-04-30T14:56:13.9935Z"
        },
        "trusted": true,
        "id": "BoS2iAjYLsSU"
      },
      "execution_count": null,
      "outputs": []
    },
    {
      "cell_type": "code",
      "source": [
        "plt.figure(figsize=(8, 6))\n",
        "sns.set(font_scale=1.2)\n",
        "sns.heatmap(rfc_matrix, annot=True, fmt=\"d\", cmap=\"Blues\", cbar=False,\n",
        "            xticklabels=[\"0:A\", \"1:S\", \"2:SS\"], yticklabels=[\"0:A\", \"1:S\", \"2:SS\"])\n",
        "plt.xlabel(\"Predicted\")\n",
        "plt.ylabel(\"True\")\n",
        "plt.title(\"Confusion Matrix Heatmap of RandomForestClassifier\")\n",
        "plt.show()"
      ],
      "metadata": {
        "execution": {
          "iopub.status.busy": "2024-04-30T14:36:56.311474Z",
          "iopub.execute_input": "2024-04-30T14:36:56.311807Z",
          "iopub.status.idle": "2024-04-30T14:36:56.58154Z",
          "shell.execute_reply.started": "2024-04-30T14:36:56.31178Z",
          "shell.execute_reply": "2024-04-30T14:36:56.580386Z"
        },
        "trusted": true,
        "id": "5NDMNrtULsSU"
      },
      "execution_count": null,
      "outputs": []
    },
    {
      "cell_type": "code",
      "source": [
        "feature_importances = rfc.feature_importances_\n",
        "print(\"Feature Importances:\")\n",
        "for i, importance in enumerate(feature_importances):\n",
        "    print(f\"Feature {i+1}: {importance}\")"
      ],
      "metadata": {
        "execution": {
          "iopub.status.busy": "2024-04-30T14:58:39.304193Z",
          "iopub.execute_input": "2024-04-30T14:58:39.304606Z",
          "iopub.status.idle": "2024-04-30T14:58:39.323153Z",
          "shell.execute_reply.started": "2024-04-30T14:58:39.304576Z",
          "shell.execute_reply": "2024-04-30T14:58:39.322163Z"
        },
        "trusted": true,
        "id": "RE1ThX5uLsSV"
      },
      "execution_count": null,
      "outputs": []
    },
    {
      "cell_type": "code",
      "source": [
        "accuracies = [test_acc, nb_accuracy,rfc_accuracy, svr_accuracy]\n",
        "classifiers = ['ANN','NaiveBayes', 'RandomForest', 'SVM']\n",
        "\n",
        "plt.figure(figsize=(10, 6))\n",
        "sns.barplot(x=classifiers, y=accuracies, palette='muted')\n",
        "plt.xlabel('Classifier')\n",
        "plt.ylabel('Accuracy')\n",
        "plt.title('Comparison of Classifier Accuracies')\n",
        "plt.ylim(0.6, 1.0)\n",
        "plt.show()"
      ],
      "metadata": {
        "execution": {
          "iopub.status.busy": "2024-04-30T15:17:24.633663Z",
          "iopub.execute_input": "2024-04-30T15:17:24.63419Z",
          "iopub.status.idle": "2024-04-30T15:17:24.981891Z",
          "shell.execute_reply.started": "2024-04-30T15:17:24.634118Z",
          "shell.execute_reply": "2024-04-30T15:17:24.980436Z"
        },
        "trusted": true,
        "id": "O_h_GDQGLsSW"
      },
      "execution_count": null,
      "outputs": []
    }
  ]
}